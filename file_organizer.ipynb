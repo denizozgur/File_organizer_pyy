{
 "cells": [
  {
   "cell_type": "code",
   "execution_count": 1,
   "metadata": {},
   "outputs": [],
   "source": [
    "import os"
   ]
  },
  {
   "cell_type": "code",
   "execution_count": 5,
   "metadata": {},
   "outputs": [],
   "source": [
    "unorganized_folder_path = r\"C:\\Users\\VengunStars\\Downloads\""
   ]
  },
  {
   "cell_type": "code",
   "execution_count": 6,
   "metadata": {},
   "outputs": [],
   "source": [
    "import shutil"
   ]
  },
  {
   "cell_type": "code",
   "execution_count": 7,
   "metadata": {},
   "outputs": [],
   "source": [
    "categories = {\n",
    "    'Word': ['.doc', '.docx'],\n",
    "    'PDF': ['.pdf'],\n",
    "    'Text': ['.txt'],\n",
    "    'Presentations': ['.ppt', '.pptx'],\n",
    "    'CSV': ['.csv'],\n",
    "    'Excel': ['.xls', '.xlsx'],\n",
    "    'Jupyter Notebooks': ['.ipynb'],\n",
    "    'Zipped': ['.zip'],\n",
    "    'Exe': ['.exe'],\n",
    "}"
   ]
  },
  {
   "cell_type": "code",
   "execution_count": 8,
   "metadata": {},
   "outputs": [],
   "source": [
    "def organize_files(source_dir):\n",
    "    \n",
    "    for filename in os.listdir(source_dir):\n",
    "        file_path = os.path.join(source_dir, filename)\n",
    "        \n",
    "        if os.path.isdir(file_path):\n",
    "            continue\n",
    "\n",
    "        file_extension = os.path.splitext(filename)[1].lower()\n",
    "        \n",
    "        for category, extensions in categories.items():\n",
    "            if file_extension in extensions:\n",
    "                category_dir = os.path.join(source_dir, category)\n",
    "                if not os.path.exists(category_dir):\n",
    "                    os.makedirs(category_dir)\n",
    "                shutil.move(file_path, os.path.join(category_dir, filename))\n",
    "                print(f'Moved: {filename} to {category}/')\n",
    "                break"
   ]
  },
  {
   "cell_type": "code",
   "execution_count": 9,
   "metadata": {},
   "outputs": [
    {
     "name": "stdout",
     "output_type": "stream",
     "text": [
      "Moved: archive (1).zip to Zipped/\n",
      "Moved: archive (2).zip to Zipped/\n",
      "Moved: archive (3).zip to Zipped/\n",
      "Moved: archive (4).zip to Zipped/\n",
      "Moved: archive (5).zip to Zipped/\n",
      "Moved: archive (6).zip to Zipped/\n",
      "Moved: archive (7).zip to Zipped/\n",
      "Moved: archive(1).zip to Zipped/\n",
      "Moved: archive(2).zip to Zipped/\n",
      "Moved: archive(3).zip to Zipped/\n",
      "Moved: archive(4).zip to Zipped/\n",
      "Moved: archive.zip to Zipped/\n",
     ]
    }
   ],
   "source": [
    "organize_files(unorganized_folder_path)"
   ]
  },
  {
   "cell_type": "code",
   "execution_count": null,
   "metadata": {},
   "outputs": [],
   "source": []
  }
 ],
 "metadata": {
  "kernelspec": {
   "display_name": "Python 3",
   "language": "python",
   "name": "python3"
  },
  "language_info": {
   "codemirror_mode": {
    "name": "ipython",
    "version": 3
   },
   "file_extension": ".py",
   "mimetype": "text/x-python",
   "name": "python",
   "nbconvert_exporter": "python",
   "pygments_lexer": "ipython3",
   "version": "3.9.5"
  }
 },
 "nbformat": 4,
 "nbformat_minor": 2
}
