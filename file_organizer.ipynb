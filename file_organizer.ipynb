{
 "cells": [
  {
   "cell_type": "code",
   "execution_count": 6,
   "metadata": {},
   "outputs": [],
   "source": [
    "import os"
   ]
  },
  {
   "cell_type": "code",
   "execution_count": 7,
   "metadata": {},
   "outputs": [],
   "source": [
    "unorganized_folder_path = r\"C:\\Users\\VengunStars\\Downloads\""
   ]
  },
  {
   "cell_type": "code",
   "execution_count": 8,
   "metadata": {},
   "outputs": [],
   "source": [
    "import shutil"
   ]
  },
  {
   "cell_type": "code",
   "execution_count": 12,
   "metadata": {},
   "outputs": [],
   "source": [
    "categories = {\n",
    "    'Word': ['.doc', '.docx'],\n",
    "    'PDF': ['.pdf'],\n",
    "    'Text': ['.txt'],\n",
    "    'Presentations': ['.ppt', '.pptx'],\n",
    "    'CSV': ['.csv'],\n",
    "    'Excel': ['.xls', '.xlsx'],\n",
    "    'Jupyter Notebooks': ['.ipynb'],\n",
    "    'Zipped': ['.zip'],\n",
    "    'Exe': ['.exe'],\n",
    "    #added memes part i forget at first run\n",
    "    'Probably_memes': ['.jpg', '.jpeg', '.png', '.gif', '.bmp', '.tiff', '.mp4', '.avi', '.mov', '.mkv', '.flv'],\n",
    "}\n"
   ]
  },
  {
   "cell_type": "code",
   "execution_count": 13,
   "metadata": {},
   "outputs": [],
   "source": [
    "def organize_files(source_dir):\n",
    "    \n",
    "    for filename in os.listdir(source_dir):\n",
    "        file_path = os.path.join(source_dir, filename)\n",
    "        \n",
    "        if os.path.isdir(file_path):\n",
    "            continue\n",
    "\n",
    "        file_extension = os.path.splitext(filename)[1].lower()\n",
    "        \n",
    "        for category, extensions in categories.items():\n",
    "            if file_extension in extensions:\n",
    "                category_dir = os.path.join(source_dir, category)\n",
    "                if not os.path.exists(category_dir):\n",
    "                    os.makedirs(category_dir)\n",
    "                shutil.move(file_path, os.path.join(category_dir, filename))\n",
    "                print(f'Moved: {filename} to {category}/')\n",
    "                break"
   ]
  },
  {
   "cell_type": "code",
   "execution_count": 14,
   "metadata": {},
   "outputs": [
    {
     "name": "stdout",
     "output_type": "stream",
     "text": [
      "Moved: 431521307_122129129024194138_1439105714934660829_n.jpg to Probably_memes/\n",
      "Moved: 780071.jpg to Probably_memes/\n",
      "Moved: 8gk7sr.jpg to Probably_memes/\n",
      "Moved: Designer.png to Probably_memes/\n",
      "Moved: download.png to Probably_memes/\n",
      "Moved: IMG_5446.png to Probably_memes/\n",
      "Moved: media-iv-text.gif to Probably_memes/\n",
      "Moved: mete.yabgu-20220614-0002.mp4 to Probably_memes/\n",
      "Moved: Screenshot 2024-10-08 203301.png to Probably_memes/\n",
      "Moved: Screenshot_2022-12-04-21-57-46-75_1c337646f29875672b5a61192b9010f9.jpg to Probably_memes/\n",
      "Moved: trim.A36409FA-7356-42DB-88E8-154E75B6C205.mov to Probably_memes/\n",
      "Moved: VID_122670827_004225_094.mp4 to Probably_memes/\n"
     ]
    }
   ],
   "source": [
    "organize_files(unorganized_folder_path)"
   ]
  },
  {
   "cell_type": "code",
   "execution_count": null,
   "metadata": {},
   "outputs": [],
   "source": []
  }
 ],
 "metadata": {
  "kernelspec": {
   "display_name": "Python 3",
   "language": "python",
   "name": "python3"
  },
  "language_info": {
   "codemirror_mode": {
    "name": "ipython",
    "version": 3
   },
   "file_extension": ".py",
   "mimetype": "text/x-python",
   "name": "python",
   "nbconvert_exporter": "python",
   "pygments_lexer": "ipython3",
   "version": "3.9.5"
  }
 },
 "nbformat": 4,
 "nbformat_minor": 2
}
